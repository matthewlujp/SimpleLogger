{
 "cells": [
  {
   "cell_type": "code",
   "execution_count": 2,
   "metadata": {},
   "outputs": [
    {
     "name": "stdout",
     "output_type": "stream",
     "text": [
      "The autoreload extension is already loaded. To reload it, use:\n",
      "  %reload_ext autoreload\n"
     ]
    }
   ],
   "source": [
    "%load_ext autoreload\n",
    "%autoreload 2\n",
    "%matplotlib inline\n",
    "\n",
    "import matplotlib.pyplot as plt\n",
    "import numpy as np\n",
    "import pickle\n",
    "import re\n",
    "import os\n",
    "\n",
    "\n",
    "\n",
    "def visualize_logger(log_dir_path, save_path=None, xrange_low=0, xrange_high=None, one_fig_size=(8, 2)):\n",
    "    pattern = re.compile(r'^train_log_iter[0-9]+_([0-9]+)\\.pickle$')\n",
    "    log_filenames = []\n",
    "    timestamps = []\n",
    "    for fname in os.listdir(log_dir_path):\n",
    "        ret = pattern.match(fname)\n",
    "        if ret:\n",
    "            log_filenames.append(ret.group(0))\n",
    "            timestamps.append(ret.group(1))\n",
    "\n",
    "    latest_log_file = np.array(log_filenames)[np.argsort(timestamps)][-1]\n",
    "    with open(os.path.join(log_dir_path, latest_log_file), 'rb') as f:\n",
    "        logger = pickle.load(f)\n",
    "\n",
    "    fig, axes = plt.subplots(len(logger), sharex=True, figsize=(one_fig_size[0], one_fig_size[1] * len(logger)))\n",
    "\n",
    "    for i, (k, v) in enumerate(logger.items()):\n",
    "        if xrange_high is None:\n",
    "            xrange_high = len(v)\n",
    "        axes[i].plot(np.arange(xrange_low, xrange_high), v[xrange_low:xrange_high])\n",
    "        axes[i].set_title(k)\n",
    "        \n",
    "        print(k, v[-1])\n",
    "\n",
    "    if save_path:\n",
    "        plt.savefig(save_path)\n",
    "    plt.show()\n"
   ]
  },
  {
   "cell_type": "code",
   "execution_count": null,
   "metadata": {},
   "outputs": [],
   "source": []
  }
 ],
 "metadata": {
  "kernelspec": {
   "display_name": "Python 3",
   "language": "python",
   "name": "python3"
  },
  "language_info": {
   "codemirror_mode": {
    "name": "ipython",
    "version": 3
   },
   "file_extension": ".py",
   "mimetype": "text/x-python",
   "name": "python",
   "nbconvert_exporter": "python",
   "pygments_lexer": "ipython3",
   "version": "3.6.2"
  }
 },
 "nbformat": 4,
 "nbformat_minor": 2
}
